{
 "cells": [
  {
   "cell_type": "markdown",
   "metadata": {},
   "source": [
[![Open In Colab](https://colab.research.google.com/assets/colab-badge.svg)](https://colab.research.google.com/github/googlecolab/colabtools/blob/master/notebooks/colab-github-demo.ipynb)
   ]
  },
  {
   "cell_type": "markdown",
   "metadata": {},
   "source": [
    "# Linear Regression\n",
    "`sklearn`, `pandas`, and `statsmodels`, all have modules for linear regreession. `sklearn` is faster but gives less details. I recommend to use `pandas` and `statsmodels` modules functions for regression. \n",
    "\n",
    "\n",
    "\n",
    "\n",
    "\n",
    "\n",
    "\n"
   ]
  },
  {
   "cell_type": "code",
   "execution_count": 1,
   "metadata": {},
   "outputs": [],
   "source": [
    "import sklearn\n",
    "import statsmodels\n",
    "import numpy as np\n",
    "import pandas as pd"
   ]
  },
  {
   "cell_type": "markdown",
   "metadata": {},
   "source": [
    "# Load file\n",
    "Commonly two libraries are used to load a csv files.\n",
    "- `numpy` function `np.loadtext` and `np.genfromtext ` \n",
    "- `pandas` function `pd.read_csv`\n",
    "\n",
    "Here we prefer using `pandas`"
   ]
  },
  {
   "cell_type": "code",
   "execution_count": 2,
   "metadata": {},
   "outputs": [
    {
     "data": {
      "text/html": [
       "<div>\n",
       "<style scoped>\n",
       "    .dataframe tbody tr th:only-of-type {\n",
       "        vertical-align: middle;\n",
       "    }\n",
       "\n",
       "    .dataframe tbody tr th {\n",
       "        vertical-align: top;\n",
       "    }\n",
       "\n",
       "    .dataframe thead th {\n",
       "        text-align: right;\n",
       "    }\n",
       "</style>\n",
       "<table border=\"1\" class=\"dataframe\">\n",
       "  <thead>\n",
       "    <tr style=\"text-align: right;\">\n",
       "      <th></th>\n",
       "      <th>TV</th>\n",
       "      <th>radio</th>\n",
       "      <th>newspaper</th>\n",
       "      <th>sales</th>\n",
       "    </tr>\n",
       "  </thead>\n",
       "  <tbody>\n",
       "    <tr>\n",
       "      <th>0</th>\n",
       "      <td>230.1</td>\n",
       "      <td>37.8</td>\n",
       "      <td>69.2</td>\n",
       "      <td>22.1</td>\n",
       "    </tr>\n",
       "    <tr>\n",
       "      <th>1</th>\n",
       "      <td>44.5</td>\n",
       "      <td>39.3</td>\n",
       "      <td>45.1</td>\n",
       "      <td>10.4</td>\n",
       "    </tr>\n",
       "    <tr>\n",
       "      <th>2</th>\n",
       "      <td>17.2</td>\n",
       "      <td>45.9</td>\n",
       "      <td>69.3</td>\n",
       "      <td>9.3</td>\n",
       "    </tr>\n",
       "    <tr>\n",
       "      <th>3</th>\n",
       "      <td>151.5</td>\n",
       "      <td>41.3</td>\n",
       "      <td>58.5</td>\n",
       "      <td>18.5</td>\n",
       "    </tr>\n",
       "    <tr>\n",
       "      <th>4</th>\n",
       "      <td>180.8</td>\n",
       "      <td>10.8</td>\n",
       "      <td>58.4</td>\n",
       "      <td>12.9</td>\n",
       "    </tr>\n",
       "  </tbody>\n",
       "</table>\n",
       "</div>"
      ],
      "text/plain": [
       "      TV  radio  newspaper  sales\n",
       "0  230.1   37.8       69.2   22.1\n",
       "1   44.5   39.3       45.1   10.4\n",
       "2   17.2   45.9       69.3    9.3\n",
       "3  151.5   41.3       58.5   18.5\n",
       "4  180.8   10.8       58.4   12.9"
      ]
     },
     "execution_count": 2,
     "metadata": {},
     "output_type": "execute_result"
    }
   ],
   "source": [
    "import pandas as pd\n",
    "filename = 'Advertising.csv'\n",
    "advertising = pd.read_csv(filename, usecols=[1, 2, 3, 4])\n",
    "advertising.head()"
   ]
  },
  {
   "cell_type": "code",
   "execution_count": 3,
   "metadata": {
    "scrolled": true
   },
   "outputs": [
    {
     "data": {
      "text/html": [
       "<div>\n",
       "<style scoped>\n",
       "    .dataframe tbody tr th:only-of-type {\n",
       "        vertical-align: middle;\n",
       "    }\n",
       "\n",
       "    .dataframe tbody tr th {\n",
       "        vertical-align: top;\n",
       "    }\n",
       "\n",
       "    .dataframe thead th {\n",
       "        text-align: right;\n",
       "    }\n",
       "</style>\n",
       "<table border=\"1\" class=\"dataframe\">\n",
       "  <thead>\n",
       "    <tr style=\"text-align: right;\">\n",
       "      <th></th>\n",
       "      <th>TV</th>\n",
       "      <th>radio</th>\n",
       "      <th>newspaper</th>\n",
       "      <th>sales</th>\n",
       "    </tr>\n",
       "  </thead>\n",
       "  <tbody>\n",
       "    <tr>\n",
       "      <th>count</th>\n",
       "      <td>200.000000</td>\n",
       "      <td>200.000000</td>\n",
       "      <td>200.000000</td>\n",
       "      <td>200.000000</td>\n",
       "    </tr>\n",
       "    <tr>\n",
       "      <th>mean</th>\n",
       "      <td>147.042500</td>\n",
       "      <td>23.264000</td>\n",
       "      <td>30.554000</td>\n",
       "      <td>14.022500</td>\n",
       "    </tr>\n",
       "    <tr>\n",
       "      <th>std</th>\n",
       "      <td>85.854236</td>\n",
       "      <td>14.846809</td>\n",
       "      <td>21.778621</td>\n",
       "      <td>5.217457</td>\n",
       "    </tr>\n",
       "    <tr>\n",
       "      <th>min</th>\n",
       "      <td>0.700000</td>\n",
       "      <td>0.000000</td>\n",
       "      <td>0.300000</td>\n",
       "      <td>1.600000</td>\n",
       "    </tr>\n",
       "    <tr>\n",
       "      <th>25%</th>\n",
       "      <td>74.375000</td>\n",
       "      <td>9.975000</td>\n",
       "      <td>12.750000</td>\n",
       "      <td>10.375000</td>\n",
       "    </tr>\n",
       "    <tr>\n",
       "      <th>50%</th>\n",
       "      <td>149.750000</td>\n",
       "      <td>22.900000</td>\n",
       "      <td>25.750000</td>\n",
       "      <td>12.900000</td>\n",
       "    </tr>\n",
       "    <tr>\n",
       "      <th>75%</th>\n",
       "      <td>218.825000</td>\n",
       "      <td>36.525000</td>\n",
       "      <td>45.100000</td>\n",
       "      <td>17.400000</td>\n",
       "    </tr>\n",
       "    <tr>\n",
       "      <th>max</th>\n",
       "      <td>296.400000</td>\n",
       "      <td>49.600000</td>\n",
       "      <td>114.000000</td>\n",
       "      <td>27.000000</td>\n",
       "    </tr>\n",
       "  </tbody>\n",
       "</table>\n",
       "</div>"
      ],
      "text/plain": [
       "               TV       radio   newspaper       sales\n",
       "count  200.000000  200.000000  200.000000  200.000000\n",
       "mean   147.042500   23.264000   30.554000   14.022500\n",
       "std     85.854236   14.846809   21.778621    5.217457\n",
       "min      0.700000    0.000000    0.300000    1.600000\n",
       "25%     74.375000    9.975000   12.750000   10.375000\n",
       "50%    149.750000   22.900000   25.750000   12.900000\n",
       "75%    218.825000   36.525000   45.100000   17.400000\n",
       "max    296.400000   49.600000  114.000000   27.000000"
      ]
     },
     "execution_count": 3,
     "metadata": {},
     "output_type": "execute_result"
    }
   ],
   "source": [
    "advertising.describe()"
   ]
  },
  {
   "cell_type": "code",
   "execution_count": 4,
   "metadata": {},
   "outputs": [
    {
     "data": {
      "text/plain": [
       "14.022500000000003"
      ]
     },
     "execution_count": 4,
     "metadata": {},
     "output_type": "execute_result"
    }
   ],
   "source": [
    "import numpy as np\n",
    "np.mean(advertising['sales'])"
   ]
  },
  {
   "cell_type": "code",
   "execution_count": 5,
   "metadata": {},
   "outputs": [
    {
     "data": {
      "text/plain": [
       "<matplotlib.axes._subplots.AxesSubplot at 0x199c3914128>"
      ]
     },
     "execution_count": 5,
     "metadata": {},
     "output_type": "execute_result"
    }
   ],
   "source": [
    "advertising[['sales']].plot(kind=\"hist\", figsize=(6,4))"
   ]
  },
  {
   "cell_type": "markdown",
   "metadata": {},
   "source": [
    "# Fit linear regression\n",
    "Here we use `sklearn` to fit the regression. `sklearn` provides minimal regression summary. It is more convenient to use `statsmodels` if long summary with more details is needed\n"
   ]
  },
  {
   "cell_type": "markdown",
   "metadata": {},
   "source": [
    "#  Linear Regression using sklearn"
   ]
  },
  {
   "cell_type": "code",
   "execution_count": 6,
   "metadata": {},
   "outputs": [],
   "source": [
    "from sklearn.linear_model import LinearRegression\n",
    "\n",
    "# initialize the model first\n",
    "lr = LinearRegression()"
   ]
  },
  {
   "cell_type": "code",
   "execution_count": 7,
   "metadata": {},
   "outputs": [
    {
     "data": {
      "text/plain": [
       "LinearRegression(copy_X=True, fit_intercept=True, n_jobs=None,\n",
       "         normalize=False)"
      ]
     },
     "execution_count": 7,
     "metadata": {},
     "output_type": "execute_result"
    }
   ],
   "source": [
    "# fit the model and feed the data\n",
    "lr.fit(X = advertising[ ['TV'] ], y = advertising['sales'])"
   ]
  },
  {
   "cell_type": "code",
   "execution_count": 8,
   "metadata": {},
   "outputs": [
    {
     "name": "stdout",
     "output_type": "stream",
     "text": [
      "7.032593549127693 [0.04753664]\n"
     ]
    }
   ],
   "source": [
    "# regression parameters intercept is beta0 and coef_ is beta1\n",
    "print(lr.intercept_, lr.coef_)"
   ]
  },
  {
   "cell_type": "code",
   "execution_count": 9,
   "metadata": {
    "scrolled": true
   },
   "outputs": [
    {
     "name": "stdout",
     "output_type": "stream",
     "text": [
      "<class 'pandas.core.frame.DataFrame'>\n",
      "<class 'pandas.core.series.Series'>\n",
      "<class 'pandas.core.frame.DataFrame'>\n",
      "0    230.1\n",
      "1     44.5\n",
      "2     17.2\n",
      "3    151.5\n",
      "4    180.8\n",
      "Name: TV, dtype: float64\n"
     ]
    },
    {
     "data": {
      "image/png": "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\n",
      "text/plain": [
       "<Figure size 432x288 with 1 Axes>"
      ]
     },
     "metadata": {
      "needs_background": "light"
     },
     "output_type": "display_data"
    }
   ],
   "source": [
    "import matplotlib.pyplot as plt\n",
    "%matplotlib inline\n",
    "\n",
    "plt.plot(advertising.TV, advertising.sales, 'or', mfc='none');\n",
    "\n",
    "# add a regression line\n",
    "plt.plot(advertising.TV, lr.intercept_+lr.coef_*advertising.TV, \"-b\");\n",
    "plt.xlabel('TV');\n",
    "plt.ylabel('sales');\n",
    "print(type(advertising))\n",
    "print(type(advertising.TV))\n",
    "print(type(advertising[['TV']]))\n",
    "print(advertising.TV.head(5))\n",
    "      "
   ]
  },
  {
   "cell_type": "markdown",
   "metadata": {
    "collapsed": true
   },
   "source": [
    "# Exercise\n",
    "Do the same with `radio` and `newspaper`\n",
    "- Plot the data \n",
    "- Add the fitted line."
   ]
  },
  {
   "cell_type": "code",
   "execution_count": 10,
   "metadata": {},
   "outputs": [
    {
     "name": "stdout",
     "output_type": "stream",
     "text": [
      "9.311638095158283 [0.20249578]\n"
     ]
    }
   ],
   "source": [
    "lr = LinearRegression()\n",
    "lr.fit(X = advertising[ ['radio'] ], y = advertising['sales'])\n",
    "print(lr.intercept_, lr.coef_)"
   ]
  },
  {
   "cell_type": "code",
   "execution_count": 11,
   "metadata": {},
   "outputs": [
    {
     "data": {
      "image/png": "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\n",
      "text/plain": [
       "<Figure size 432x288 with 1 Axes>"
      ]
     },
     "metadata": {
      "needs_background": "light"
     },
     "output_type": "display_data"
    }
   ],
   "source": [
    "plt.plot(advertising.radio, advertising.sales, 'or', mfc='none');\n",
    "# add a regression line\n",
    "plt.plot(advertising.radio, lr.intercept_+lr.coef_*advertising.radio,\\\n",
    "         \"-b\");\n",
    "plt.xlabel('radio');\n",
    "plt.ylabel('sales');"
   ]
  },
  {
   "cell_type": "code",
   "execution_count": 12,
   "metadata": {},
   "outputs": [
    {
     "name": "stdout",
     "output_type": "stream",
     "text": [
      "12.35140706927816 [0.0546931]\n"
     ]
    }
   ],
   "source": [
    "lr = LinearRegression()\n",
    "lr.fit(X = advertising[ ['newspaper'] ], y = advertising['sales'])\n",
    "print(lr.intercept_, lr.coef_)"
   ]
  },
  {
   "cell_type": "code",
   "execution_count": 13,
   "metadata": {},
   "outputs": [
    {
     "data": {
      "image/png": "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\n",
      "text/plain": [
       "<Figure size 432x288 with 1 Axes>"
      ]
     },
     "metadata": {
      "needs_background": "light"
     },
     "output_type": "display_data"
    }
   ],
   "source": [
    "plt.plot(advertising.newspaper, advertising.sales, 'or', mfc='none');\n",
    "# add a regression line\n",
    "plt.plot(advertising.newspaper, lr.intercept_+lr.coef_*advertising.newspaper,\\\n",
    "         \"-b\");\n",
    "plt.xlabel('newspaper');\n",
    "plt.ylabel('sales');"
   ]
  },
  {
   "cell_type": "markdown",
   "metadata": {},
   "source": [
    "# Multiple Linear Regression\n",
    "There is no need to fit a line one by one. One may fit a plane to several features.\n"
   ]
  },
  {
   "cell_type": "code",
   "execution_count": 36,
   "metadata": {},
   "outputs": [
    {
     "name": "stdout",
     "output_type": "stream",
     "text": [
      "2.9210999124051362 [0.04575482 0.18799423]\n"
     ]
    },
    {
     "data": {
      "text/plain": [
       "1759969851656"
      ]
     },
     "execution_count": 36,
     "metadata": {},
     "output_type": "execute_result"
    }
   ],
   "source": [
    "lr = LinearRegression()\n",
    "X = advertising[ ['TV', 'radio'] ]\n",
    "lr.fit(X, y = advertising['sales'])\n",
    "\n",
    "print(lr.intercept_, lr.coef_)\n",
    "betas = lr.coef_\n",
    "type(betas)\n",
    "id(lr)"
   ]
  },
  {
   "cell_type": "code",
   "execution_count": 34,
   "metadata": {},
   "outputs": [
    {
     "data": {
      "image/png": "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\n",
      "text/plain": [
       "<Figure size 432x288 with 1 Axes>"
      ]
     },
     "metadata": {
      "needs_background": "light"
     },
     "output_type": "display_data"
    }
   ],
   "source": [
    "from mpl_toolkits.mplot3d import Axes3D\n",
    "fig = plt.figure()\n",
    "ax = plt.axes(projection='3d')\n",
    "plt.plot(advertising.radio, advertising.TV, advertising.sales, 'd',mfc='none');\n",
    "plt.plot(advertising.radio, advertising.TV, lr.intercept_+betas[1]*advertising.radio+betas[0]*advertising.TV,'or',mfc='none');\n",
    "plt.xlabel('newspaper');\n",
    "plt.ylabel('TV');\n",
    "ax.set_zlabel('sales');"
   ]
  },
  {
   "cell_type": "markdown",
   "metadata": {},
   "source": [
    "## Prediction"
   ]
  },
  {
   "cell_type": "code",
   "execution_count": 16,
   "metadata": {},
   "outputs": [
    {
     "data": {
      "text/html": [
       "<div>\n",
       "<style scoped>\n",
       "    .dataframe tbody tr th:only-of-type {\n",
       "        vertical-align: middle;\n",
       "    }\n",
       "\n",
       "    .dataframe tbody tr th {\n",
       "        vertical-align: top;\n",
       "    }\n",
       "\n",
       "    .dataframe thead th {\n",
       "        text-align: right;\n",
       "    }\n",
       "</style>\n",
       "<table border=\"1\" class=\"dataframe\">\n",
       "  <thead>\n",
       "    <tr style=\"text-align: right;\">\n",
       "      <th></th>\n",
       "      <th>TV</th>\n",
       "      <th>radio</th>\n",
       "      <th>newspaper</th>\n",
       "      <th>sales</th>\n",
       "    </tr>\n",
       "  </thead>\n",
       "  <tbody>\n",
       "    <tr>\n",
       "      <th>111</th>\n",
       "      <td>241.7</td>\n",
       "      <td>38.0</td>\n",
       "      <td>23.2</td>\n",
       "      <td>21.8</td>\n",
       "    </tr>\n",
       "    <tr>\n",
       "      <th>139</th>\n",
       "      <td>184.9</td>\n",
       "      <td>43.9</td>\n",
       "      <td>1.7</td>\n",
       "      <td>20.7</td>\n",
       "    </tr>\n",
       "    <tr>\n",
       "      <th>66</th>\n",
       "      <td>31.5</td>\n",
       "      <td>24.6</td>\n",
       "      <td>2.2</td>\n",
       "      <td>9.5</td>\n",
       "    </tr>\n",
       "    <tr>\n",
       "      <th>47</th>\n",
       "      <td>239.9</td>\n",
       "      <td>41.5</td>\n",
       "      <td>18.5</td>\n",
       "      <td>23.2</td>\n",
       "    </tr>\n",
       "    <tr>\n",
       "      <th>38</th>\n",
       "      <td>43.1</td>\n",
       "      <td>26.7</td>\n",
       "      <td>35.1</td>\n",
       "      <td>10.1</td>\n",
       "    </tr>\n",
       "    <tr>\n",
       "      <th>170</th>\n",
       "      <td>50.0</td>\n",
       "      <td>11.6</td>\n",
       "      <td>18.4</td>\n",
       "      <td>8.4</td>\n",
       "    </tr>\n",
       "    <tr>\n",
       "      <th>88</th>\n",
       "      <td>88.3</td>\n",
       "      <td>25.5</td>\n",
       "      <td>73.4</td>\n",
       "      <td>12.9</td>\n",
       "    </tr>\n",
       "    <tr>\n",
       "      <th>155</th>\n",
       "      <td>4.1</td>\n",
       "      <td>11.6</td>\n",
       "      <td>5.7</td>\n",
       "      <td>3.2</td>\n",
       "    </tr>\n",
       "    <tr>\n",
       "      <th>173</th>\n",
       "      <td>168.4</td>\n",
       "      <td>7.1</td>\n",
       "      <td>12.8</td>\n",
       "      <td>11.7</td>\n",
       "    </tr>\n",
       "    <tr>\n",
       "      <th>9</th>\n",
       "      <td>199.8</td>\n",
       "      <td>2.6</td>\n",
       "      <td>21.2</td>\n",
       "      <td>10.6</td>\n",
       "    </tr>\n",
       "  </tbody>\n",
       "</table>\n",
       "</div>"
      ],
      "text/plain": [
       "        TV  radio  newspaper  sales\n",
       "111  241.7   38.0       23.2   21.8\n",
       "139  184.9   43.9        1.7   20.7\n",
       "66    31.5   24.6        2.2    9.5\n",
       "47   239.9   41.5       18.5   23.2\n",
       "38    43.1   26.7       35.1   10.1\n",
       "170   50.0   11.6       18.4    8.4\n",
       "88    88.3   25.5       73.4   12.9\n",
       "155    4.1   11.6        5.7    3.2\n",
       "173  168.4    7.1       12.8   11.7\n",
       "9    199.8    2.6       21.2   10.6"
      ]
     },
     "execution_count": 16,
     "metadata": {},
     "output_type": "execute_result"
    }
   ],
   "source": [
    "adv_sample = advertising.sample(n=10)\n",
    "adv_sample"
   ]
  },
  {
   "cell_type": "code",
   "execution_count": 17,
   "metadata": {},
   "outputs": [
    {
     "name": "stdout",
     "output_type": "stream",
     "text": [
      "<class 'pandas.core.frame.DataFrame'>\n",
      "<class 'numpy.ndarray'>\n"
     ]
    },
    {
     "data": {
      "text/plain": [
       "1759957354200"
      ]
     },
     "execution_count": 17,
     "metadata": {},
     "output_type": "execute_result"
    }
   ],
   "source": [
    "X_new = adv_sample[ ['TV', 'radio'] ].values\n",
    "print(type(adv_sample[ ['TV', 'radio'] ]))\n",
    "print(type(X_new))\n",
    "lr.predict(X_new)\n",
    "id(lr)"
   ]
  },
  {
   "cell_type": "code",
   "execution_count": 18,
   "metadata": {},
   "outputs": [
    {
     "name": "stdout",
     "output_type": "stream",
     "text": [
      "[[100 100]]\n"
     ]
    },
    {
     "data": {
      "text/plain": [
       "array([26.29600408])"
      ]
     },
     "execution_count": 18,
     "metadata": {},
     "output_type": "execute_result"
    }
   ],
   "source": [
    "x = np.array([100, 100] )\n",
    "print(x.reshape(1,2))\n",
    "# sample in row, features in column\n",
    "lr.predict(x.reshape(1,2))"
   ]
  },
  {
   "cell_type": "code",
   "execution_count": 19,
   "metadata": {},
   "outputs": [
    {
     "name": "stdout",
     "output_type": "stream",
     "text": [
      "[250  30  30 250   0 280 280   0]\n"
     ]
    }
   ],
   "source": [
    "x = np.array([250, 30, 30, 250, 0, 280, 280, 0] )\n",
    "\n",
    "print(x)\n"
   ]
  },
  {
   "cell_type": "code",
   "execution_count": 20,
   "metadata": {},
   "outputs": [
    {
     "name": "stdout",
     "output_type": "stream",
     "text": [
      "[[250  30]\n",
      " [ 30 250]\n",
      " [  0 280]\n",
      " [280   0]]\n"
     ]
    },
    {
     "data": {
      "text/plain": [
       "array([[19.99963049],\n",
       "       [51.29230102],\n",
       "       [55.55948337],\n",
       "       [15.73244814]])"
      ]
     },
     "execution_count": 20,
     "metadata": {},
     "output_type": "execute_result"
    }
   ],
   "source": [
    "print(x.reshape(4,2))\n",
    "\n",
    "lr.predict(x.reshape(4,2)).reshape(4,1)"
   ]
  },
  {
   "cell_type": "code",
   "execution_count": 21,
   "metadata": {},
   "outputs": [],
   "source": [
    "X_new = advertising[ ['TV', 'radio'] ]\n",
    "y = advertising['sales']\n",
    "\n",
    "\n"
   ]
  },
  {
   "cell_type": "code",
   "execution_count": 22,
   "metadata": {},
   "outputs": [
    {
     "data": {
      "image/png": "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\n",
      "text/plain": [
       "<Figure size 432x288 with 1 Axes>"
      ]
     },
     "metadata": {
      "needs_background": "light"
     },
     "output_type": "display_data"
    }
   ],
   "source": [
    "diff = lr.predict(X_new) - y\n",
    "pd.DataFrame(diff).plot(kind=\"density\", figsize=(6,4));   "
   ]
  },
  {
   "cell_type": "code",
   "execution_count": 23,
   "metadata": {},
   "outputs": [
    {
     "data": {
      "text/plain": [
       "2.784569900338092"
      ]
     },
     "execution_count": 23,
     "metadata": {},
     "output_type": "execute_result"
    }
   ],
   "source": [
    "squared_diff = diff**2\n",
    "np.sum(squared_diff)/200"
   ]
  },
  {
   "cell_type": "code",
   "execution_count": 24,
   "metadata": {},
   "outputs": [
    {
     "data": {
      "text/plain": [
       "LinearRegression(copy_X=True, fit_intercept=True, n_jobs=None,\n",
       "         normalize=False)"
      ]
     },
     "execution_count": 24,
     "metadata": {},
     "output_type": "execute_result"
    }
   ],
   "source": [
    "lr = LinearRegression()\n",
    "lr.fit(X = advertising[ ['TV', 'newspaper'] ], \\\n",
    "       y = advertising['sales'])"
   ]
  },
  {
   "cell_type": "code",
   "execution_count": 25,
   "metadata": {},
   "outputs": [
    {
     "data": {
      "text/plain": [
       "9.59280905948414"
      ]
     },
     "execution_count": 25,
     "metadata": {},
     "output_type": "execute_result"
    }
   ],
   "source": [
    "X = advertising[ ['TV', 'newspaper'] ]\n",
    "y = advertising['sales']\n",
    "\n",
    "\n",
    "squared_diff = (lr.predict(X) - y)**2\n",
    "np.sum(squared_diff)/200"
   ]
  },
  {
   "cell_type": "markdown",
   "metadata": {},
   "source": [
    "### Metrics"
   ]
  },
  {
   "cell_type": "code",
   "execution_count": 26,
   "metadata": {},
   "outputs": [
    {
     "data": {
      "text/plain": [
       "9.59280905948414"
      ]
     },
     "execution_count": 26,
     "metadata": {},
     "output_type": "execute_result"
    }
   ],
   "source": [
    "# It is possible to compute the MSE directly from sklearn\n",
    "from sklearn.metrics import mean_squared_error as mse\n",
    "mse(y_true = y, y_pred = lr.predict(X))"
   ]
  },
  {
   "cell_type": "code",
   "execution_count": 37,
   "metadata": {},
   "outputs": [
    {
     "data": {
      "text/plain": [
       "0.8971942610828956"
      ]
     },
     "execution_count": 37,
     "metadata": {},
     "output_type": "execute_result"
    }
   ],
   "source": [
    "# Another used metric for comparing regression models is the R2 score\n",
    "from sklearn.metrics import r2_score as r2\n",
    "r2(y_true = y, y_pred = lr.predict(X))"
   ]
  },
  {
   "cell_type": "markdown",
   "metadata": {},
   "source": [
    "# Using `statsmodels `\n",
    "Using `statsmodels` library for fitting linear regressions provides more details. This is specially needed if interpretation of the linear model is of interest.\n"
   ]
  },
  {
   "cell_type": "code",
   "execution_count": 28,
   "metadata": {},
   "outputs": [],
   "source": [
    "import statsmodels.formula.api as smf"
   ]
  },
  {
   "cell_type": "code",
   "execution_count": 29,
   "metadata": {},
   "outputs": [],
   "source": [
    "#ols stands for Ordinary Least Squares (basic regression)\n",
    "model1 = smf.ols(formula='sales ~ TV + radio + newspaper', \\\n",
    "                 data = advertising)\n",
    "lr1 = model1.fit()"
   ]
  },
  {
   "cell_type": "code",
   "execution_count": 30,
   "metadata": {},
   "outputs": [
    {
     "data": {
      "text/html": [
       "<table class=\"simpletable\">\n",
       "<caption>OLS Regression Results</caption>\n",
       "<tr>\n",
       "  <th>Dep. Variable:</th>          <td>sales</td>      <th>  R-squared:         </th> <td>   0.897</td>\n",
       "</tr>\n",
       "<tr>\n",
       "  <th>Model:</th>                   <td>OLS</td>       <th>  Adj. R-squared:    </th> <td>   0.896</td>\n",
       "</tr>\n",
       "<tr>\n",
       "  <th>Method:</th>             <td>Least Squares</td>  <th>  F-statistic:       </th> <td>   570.3</td>\n",
       "</tr>\n",
       "<tr>\n",
       "  <th>Date:</th>             <td>Mon, 25 Mar 2019</td> <th>  Prob (F-statistic):</th> <td>1.58e-96</td>\n",
       "</tr>\n",
       "<tr>\n",
       "  <th>Time:</th>                 <td>20:48:29</td>     <th>  Log-Likelihood:    </th> <td> -386.18</td>\n",
       "</tr>\n",
       "<tr>\n",
       "  <th>No. Observations:</th>      <td>   200</td>      <th>  AIC:               </th> <td>   780.4</td>\n",
       "</tr>\n",
       "<tr>\n",
       "  <th>Df Residuals:</th>          <td>   196</td>      <th>  BIC:               </th> <td>   793.6</td>\n",
       "</tr>\n",
       "<tr>\n",
       "  <th>Df Model:</th>              <td>     3</td>      <th>                     </th>     <td> </td>   \n",
       "</tr>\n",
       "<tr>\n",
       "  <th>Covariance Type:</th>      <td>nonrobust</td>    <th>                     </th>     <td> </td>   \n",
       "</tr>\n",
       "</table>\n",
       "<table class=\"simpletable\">\n",
       "<tr>\n",
       "      <td></td>         <th>coef</th>     <th>std err</th>      <th>t</th>      <th>P>|t|</th>  <th>[0.025</th>    <th>0.975]</th>  \n",
       "</tr>\n",
       "<tr>\n",
       "  <th>Intercept</th> <td>    2.9389</td> <td>    0.312</td> <td>    9.422</td> <td> 0.000</td> <td>    2.324</td> <td>    3.554</td>\n",
       "</tr>\n",
       "<tr>\n",
       "  <th>TV</th>        <td>    0.0458</td> <td>    0.001</td> <td>   32.809</td> <td> 0.000</td> <td>    0.043</td> <td>    0.049</td>\n",
       "</tr>\n",
       "<tr>\n",
       "  <th>radio</th>     <td>    0.1885</td> <td>    0.009</td> <td>   21.893</td> <td> 0.000</td> <td>    0.172</td> <td>    0.206</td>\n",
       "</tr>\n",
       "<tr>\n",
       "  <th>newspaper</th> <td>   -0.0010</td> <td>    0.006</td> <td>   -0.177</td> <td> 0.860</td> <td>   -0.013</td> <td>    0.011</td>\n",
       "</tr>\n",
       "</table>\n",
       "<table class=\"simpletable\">\n",
       "<tr>\n",
       "  <th>Omnibus:</th>       <td>60.414</td> <th>  Durbin-Watson:     </th> <td>   2.084</td>\n",
       "</tr>\n",
       "<tr>\n",
       "  <th>Prob(Omnibus):</th> <td> 0.000</td> <th>  Jarque-Bera (JB):  </th> <td> 151.241</td>\n",
       "</tr>\n",
       "<tr>\n",
       "  <th>Skew:</th>          <td>-1.327</td> <th>  Prob(JB):          </th> <td>1.44e-33</td>\n",
       "</tr>\n",
       "<tr>\n",
       "  <th>Kurtosis:</th>      <td> 6.332</td> <th>  Cond. No.          </th> <td>    454.</td>\n",
       "</tr>\n",
       "</table><br/><br/>Warnings:<br/>[1] Standard Errors assume that the covariance matrix of the errors is correctly specified."
      ],
      "text/plain": [
       "<class 'statsmodels.iolib.summary.Summary'>\n",
       "\"\"\"\n",
       "                            OLS Regression Results                            \n",
       "==============================================================================\n",
       "Dep. Variable:                  sales   R-squared:                       0.897\n",
       "Model:                            OLS   Adj. R-squared:                  0.896\n",
       "Method:                 Least Squares   F-statistic:                     570.3\n",
       "Date:                Mon, 25 Mar 2019   Prob (F-statistic):           1.58e-96\n",
       "Time:                        20:48:29   Log-Likelihood:                -386.18\n",
       "No. Observations:                 200   AIC:                             780.4\n",
       "Df Residuals:                     196   BIC:                             793.6\n",
       "Df Model:                           3                                         \n",
       "Covariance Type:            nonrobust                                         \n",
       "==============================================================================\n",
       "                 coef    std err          t      P>|t|      [0.025      0.975]\n",
       "------------------------------------------------------------------------------\n",
       "Intercept      2.9389      0.312      9.422      0.000       2.324       3.554\n",
       "TV             0.0458      0.001     32.809      0.000       0.043       0.049\n",
       "radio          0.1885      0.009     21.893      0.000       0.172       0.206\n",
       "newspaper     -0.0010      0.006     -0.177      0.860      -0.013       0.011\n",
       "==============================================================================\n",
       "Omnibus:                       60.414   Durbin-Watson:                   2.084\n",
       "Prob(Omnibus):                  0.000   Jarque-Bera (JB):              151.241\n",
       "Skew:                          -1.327   Prob(JB):                     1.44e-33\n",
       "Kurtosis:                       6.332   Cond. No.                         454.\n",
       "==============================================================================\n",
       "\n",
       "Warnings:\n",
       "[1] Standard Errors assume that the covariance matrix of the errors is correctly specified.\n",
       "\"\"\""
      ]
     },
     "execution_count": 30,
     "metadata": {},
     "output_type": "execute_result"
    }
   ],
   "source": [
    "lr1.summary()"
   ]
  },
  {
   "cell_type": "code",
   "execution_count": 31,
   "metadata": {},
   "outputs": [
    {
     "data": {
      "text/html": [
       "<table class=\"simpletable\">\n",
       "<caption>OLS Regression Results</caption>\n",
       "<tr>\n",
       "  <th>Dep. Variable:</th>          <td>sales</td>      <th>  R-squared:         </th> <td>   0.897</td>\n",
       "</tr>\n",
       "<tr>\n",
       "  <th>Model:</th>                   <td>OLS</td>       <th>  Adj. R-squared:    </th> <td>   0.896</td>\n",
       "</tr>\n",
       "<tr>\n",
       "  <th>Method:</th>             <td>Least Squares</td>  <th>  F-statistic:       </th> <td>   859.6</td>\n",
       "</tr>\n",
       "<tr>\n",
       "  <th>Date:</th>             <td>Mon, 25 Mar 2019</td> <th>  Prob (F-statistic):</th> <td>4.83e-98</td>\n",
       "</tr>\n",
       "<tr>\n",
       "  <th>Time:</th>                 <td>20:48:29</td>     <th>  Log-Likelihood:    </th> <td> -386.20</td>\n",
       "</tr>\n",
       "<tr>\n",
       "  <th>No. Observations:</th>      <td>   200</td>      <th>  AIC:               </th> <td>   778.4</td>\n",
       "</tr>\n",
       "<tr>\n",
       "  <th>Df Residuals:</th>          <td>   197</td>      <th>  BIC:               </th> <td>   788.3</td>\n",
       "</tr>\n",
       "<tr>\n",
       "  <th>Df Model:</th>              <td>     2</td>      <th>                     </th>     <td> </td>   \n",
       "</tr>\n",
       "<tr>\n",
       "  <th>Covariance Type:</th>      <td>nonrobust</td>    <th>                     </th>     <td> </td>   \n",
       "</tr>\n",
       "</table>\n",
       "<table class=\"simpletable\">\n",
       "<tr>\n",
       "      <td></td>         <th>coef</th>     <th>std err</th>      <th>t</th>      <th>P>|t|</th>  <th>[0.025</th>    <th>0.975]</th>  \n",
       "</tr>\n",
       "<tr>\n",
       "  <th>Intercept</th> <td>    2.9211</td> <td>    0.294</td> <td>    9.919</td> <td> 0.000</td> <td>    2.340</td> <td>    3.502</td>\n",
       "</tr>\n",
       "<tr>\n",
       "  <th>TV</th>        <td>    0.0458</td> <td>    0.001</td> <td>   32.909</td> <td> 0.000</td> <td>    0.043</td> <td>    0.048</td>\n",
       "</tr>\n",
       "<tr>\n",
       "  <th>radio</th>     <td>    0.1880</td> <td>    0.008</td> <td>   23.382</td> <td> 0.000</td> <td>    0.172</td> <td>    0.204</td>\n",
       "</tr>\n",
       "</table>\n",
       "<table class=\"simpletable\">\n",
       "<tr>\n",
       "  <th>Omnibus:</th>       <td>60.022</td> <th>  Durbin-Watson:     </th> <td>   2.081</td>\n",
       "</tr>\n",
       "<tr>\n",
       "  <th>Prob(Omnibus):</th> <td> 0.000</td> <th>  Jarque-Bera (JB):  </th> <td> 148.679</td>\n",
       "</tr>\n",
       "<tr>\n",
       "  <th>Skew:</th>          <td>-1.323</td> <th>  Prob(JB):          </th> <td>5.19e-33</td>\n",
       "</tr>\n",
       "<tr>\n",
       "  <th>Kurtosis:</th>      <td> 6.292</td> <th>  Cond. No.          </th> <td>    425.</td>\n",
       "</tr>\n",
       "</table><br/><br/>Warnings:<br/>[1] Standard Errors assume that the covariance matrix of the errors is correctly specified."
      ],
      "text/plain": [
       "<class 'statsmodels.iolib.summary.Summary'>\n",
       "\"\"\"\n",
       "                            OLS Regression Results                            \n",
       "==============================================================================\n",
       "Dep. Variable:                  sales   R-squared:                       0.897\n",
       "Model:                            OLS   Adj. R-squared:                  0.896\n",
       "Method:                 Least Squares   F-statistic:                     859.6\n",
       "Date:                Mon, 25 Mar 2019   Prob (F-statistic):           4.83e-98\n",
       "Time:                        20:48:29   Log-Likelihood:                -386.20\n",
       "No. Observations:                 200   AIC:                             778.4\n",
       "Df Residuals:                     197   BIC:                             788.3\n",
       "Df Model:                           2                                         \n",
       "Covariance Type:            nonrobust                                         \n",
       "==============================================================================\n",
       "                 coef    std err          t      P>|t|      [0.025      0.975]\n",
       "------------------------------------------------------------------------------\n",
       "Intercept      2.9211      0.294      9.919      0.000       2.340       3.502\n",
       "TV             0.0458      0.001     32.909      0.000       0.043       0.048\n",
       "radio          0.1880      0.008     23.382      0.000       0.172       0.204\n",
       "==============================================================================\n",
       "Omnibus:                       60.022   Durbin-Watson:                   2.081\n",
       "Prob(Omnibus):                  0.000   Jarque-Bera (JB):              148.679\n",
       "Skew:                          -1.323   Prob(JB):                     5.19e-33\n",
       "Kurtosis:                       6.292   Cond. No.                         425.\n",
       "==============================================================================\n",
       "\n",
       "Warnings:\n",
       "[1] Standard Errors assume that the covariance matrix of the errors is correctly specified.\n",
       "\"\"\""
      ]
     },
     "execution_count": 31,
     "metadata": {},
     "output_type": "execute_result"
    }
   ],
   "source": [
    "model2 = smf.ols(formula='sales ~ TV + radio', data = advertising)\n",
    "lr2 = model2.fit()\n",
    "lr2.summary()"
   ]
  },
  {
   "cell_type": "code",
   "execution_count": 32,
   "metadata": {},
   "outputs": [
    {
     "data": {
      "text/html": [
       "<table class=\"simpletable\">\n",
       "<caption>OLS Regression Results</caption>\n",
       "<tr>\n",
       "  <th>Dep. Variable:</th>          <td>sales</td>      <th>  R-squared:         </th> <td>   0.332</td>\n",
       "</tr>\n",
       "<tr>\n",
       "  <th>Model:</th>                   <td>OLS</td>       <th>  Adj. R-squared:    </th> <td>   0.329</td>\n",
       "</tr>\n",
       "<tr>\n",
       "  <th>Method:</th>             <td>Least Squares</td>  <th>  F-statistic:       </th> <td>   98.42</td>\n",
       "</tr>\n",
       "<tr>\n",
       "  <th>Date:</th>             <td>Mon, 25 Mar 2019</td> <th>  Prob (F-statistic):</th> <td>4.35e-19</td>\n",
       "</tr>\n",
       "<tr>\n",
       "  <th>Time:</th>                 <td>20:48:29</td>     <th>  Log-Likelihood:    </th> <td> -573.34</td>\n",
       "</tr>\n",
       "<tr>\n",
       "  <th>No. Observations:</th>      <td>   200</td>      <th>  AIC:               </th> <td>   1151.</td>\n",
       "</tr>\n",
       "<tr>\n",
       "  <th>Df Residuals:</th>          <td>   198</td>      <th>  BIC:               </th> <td>   1157.</td>\n",
       "</tr>\n",
       "<tr>\n",
       "  <th>Df Model:</th>              <td>     1</td>      <th>                     </th>     <td> </td>   \n",
       "</tr>\n",
       "<tr>\n",
       "  <th>Covariance Type:</th>      <td>nonrobust</td>    <th>                     </th>     <td> </td>   \n",
       "</tr>\n",
       "</table>\n",
       "<table class=\"simpletable\">\n",
       "<tr>\n",
       "      <td></td>         <th>coef</th>     <th>std err</th>      <th>t</th>      <th>P>|t|</th>  <th>[0.025</th>    <th>0.975]</th>  \n",
       "</tr>\n",
       "<tr>\n",
       "  <th>Intercept</th> <td>    9.3116</td> <td>    0.563</td> <td>   16.542</td> <td> 0.000</td> <td>    8.202</td> <td>   10.422</td>\n",
       "</tr>\n",
       "<tr>\n",
       "  <th>radio</th>     <td>    0.2025</td> <td>    0.020</td> <td>    9.921</td> <td> 0.000</td> <td>    0.162</td> <td>    0.243</td>\n",
       "</tr>\n",
       "</table>\n",
       "<table class=\"simpletable\">\n",
       "<tr>\n",
       "  <th>Omnibus:</th>       <td>19.358</td> <th>  Durbin-Watson:     </th> <td>   1.946</td>\n",
       "</tr>\n",
       "<tr>\n",
       "  <th>Prob(Omnibus):</th> <td> 0.000</td> <th>  Jarque-Bera (JB):  </th> <td>  21.910</td>\n",
       "</tr>\n",
       "<tr>\n",
       "  <th>Skew:</th>          <td>-0.764</td> <th>  Prob(JB):          </th> <td>1.75e-05</td>\n",
       "</tr>\n",
       "<tr>\n",
       "  <th>Kurtosis:</th>      <td> 3.544</td> <th>  Cond. No.          </th> <td>    51.4</td>\n",
       "</tr>\n",
       "</table><br/><br/>Warnings:<br/>[1] Standard Errors assume that the covariance matrix of the errors is correctly specified."
      ],
      "text/plain": [
       "<class 'statsmodels.iolib.summary.Summary'>\n",
       "\"\"\"\n",
       "                            OLS Regression Results                            \n",
       "==============================================================================\n",
       "Dep. Variable:                  sales   R-squared:                       0.332\n",
       "Model:                            OLS   Adj. R-squared:                  0.329\n",
       "Method:                 Least Squares   F-statistic:                     98.42\n",
       "Date:                Mon, 25 Mar 2019   Prob (F-statistic):           4.35e-19\n",
       "Time:                        20:48:29   Log-Likelihood:                -573.34\n",
       "No. Observations:                 200   AIC:                             1151.\n",
       "Df Residuals:                     198   BIC:                             1157.\n",
       "Df Model:                           1                                         \n",
       "Covariance Type:            nonrobust                                         \n",
       "==============================================================================\n",
       "                 coef    std err          t      P>|t|      [0.025      0.975]\n",
       "------------------------------------------------------------------------------\n",
       "Intercept      9.3116      0.563     16.542      0.000       8.202      10.422\n",
       "radio          0.2025      0.020      9.921      0.000       0.162       0.243\n",
       "==============================================================================\n",
       "Omnibus:                       19.358   Durbin-Watson:                   1.946\n",
       "Prob(Omnibus):                  0.000   Jarque-Bera (JB):               21.910\n",
       "Skew:                          -0.764   Prob(JB):                     1.75e-05\n",
       "Kurtosis:                       3.544   Cond. No.                         51.4\n",
       "==============================================================================\n",
       "\n",
       "Warnings:\n",
       "[1] Standard Errors assume that the covariance matrix of the errors is correctly specified.\n",
       "\"\"\""
      ]
     },
     "execution_count": 32,
     "metadata": {},
     "output_type": "execute_result"
    }
   ],
   "source": [
    "model3 = smf.ols(formula='sales ~ radio', data = advertising)\n",
    "lr3 = model3.fit()\n",
    "lr3.summary()"
   ]
  },
  {
   "cell_type": "code",
   "execution_count": null,
   "metadata": {},
   "outputs": [],
   "source": []
  }
 ],
 "metadata": {
  "anaconda-cloud": {},
  "kernelspec": {
   "display_name": "Python 3",
   "language": "python",
   "name": "python3"
  },
  "language_info": {
   "codemirror_mode": {
    "name": "ipython",
    "version": 3
   },
   "file_extension": ".py",
   "mimetype": "text/x-python",
   "name": "python",
   "nbconvert_exporter": "python",
   "pygments_lexer": "ipython3",
   "version": "3.7.1"
  }
 },
 "nbformat": 4,
 "nbformat_minor": 2
}
